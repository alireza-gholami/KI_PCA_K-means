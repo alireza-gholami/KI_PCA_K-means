{
 "cells": [
  {
   "cell_type": "code",
   "execution_count": null,
   "metadata": {},
   "outputs": [],
   "source": [
    "import numpy as np\n",
    "import pandas as pd\n",
    "import matplotlib.pyplot as plt\n",
    "import seaborn as sns\n",
    "sns.set()\n",
    "from sklearn.preprocessing import StandardScaler\n",
    "from sklearn.cluster import KMeans\n",
    "from sklearn.decomposition import PCA"
   ]
  },
  {
   "cell_type": "code",
   "execution_count": null,
   "metadata": {},
   "outputs": [],
   "source": [
    "df_segmentation = pd.read_csv('p002_1.csv', sep=';', decimal=\",\")\n",
    "df_segmentation.head()"
   ]
  },
  {
   "cell_type": "code",
   "execution_count": null,
   "metadata": {},
   "outputs": [],
   "source": [
    "df_segmentation['Abschluss'][0] == 5.0\n",
    "df_segmentation.head()"
   ]
  },
  {
   "cell_type": "code",
   "execution_count": null,
   "metadata": {},
   "outputs": [],
   "source": [
    "len(df_segmentation[(df_segmentation['Abschluss'] < 5)])"
   ]
  },
  {
   "cell_type": "code",
   "execution_count": null,
   "metadata": {},
   "outputs": [],
   "source": [
    "for i in range (len(df_segmentation)):\n",
    "    if df_segmentation['Abschluss'][i] < 5.0:\n",
    "        df_segmentation['Abschluss'][i] = 1\n",
    "    else:\n",
    "        df_segmentation['Abschluss'][i] = 0\n",
    "df_segmentation.head()"
   ]
  },
  {
   "cell_type": "code",
   "execution_count": null,
   "metadata": {},
   "outputs": [],
   "source": [
    "df_segmentation"
   ]
  },
  {
   "cell_type": "code",
   "execution_count": null,
   "metadata": {},
   "outputs": [],
   "source": [
    "scaler = StandardScaler()\n",
    "num_columns = 15\n",
    "\n",
    "segmentation_std = scaler.fit_transform(df_segmentation)\n",
    "abschluss = df_segmentation['Abschluss']\n",
    "Bundesland = df_segmentation['Bundesland']\n",
    "JahreseinkommenderEltern = df_segmentation['Jahreseinkommen der Eltern']\n",
    "Staatsbürgerschaft = df_segmentation['Staatsbürgerschaft']\n",
    "Schnitt = df_segmentation['Schnitt']\n",
    "Geschlecht = df_segmentation['Geschlecht']\n",
    "del df_segmentation['Abschluss']\n",
    "del df_segmentation['Bundesland']\n",
    "del df_segmentation['Jahreseinkommen der Eltern']\n",
    "del df_segmentation['Staatsbürgerschaft']\n",
    "del df_segmentation['Schnitt']\n",
    "del df_segmentation['Geschlecht']\n",
    "segmentation_std = scaler.fit_transform(df_segmentation)\n",
    "df_segmentation"
   ]
  },
  {
   "cell_type": "code",
   "execution_count": null,
   "metadata": {},
   "outputs": [],
   "source": [
    "segmentation_std"
   ]
  },
  {
   "cell_type": "code",
   "execution_count": null,
   "metadata": {},
   "outputs": [],
   "source": [
    "pca = PCA()\n",
    "pca.fit(segmentation_std)"
   ]
  },
  {
   "cell_type": "code",
   "execution_count": null,
   "metadata": {},
   "outputs": [],
   "source": [
    "pca.explained_variance_ratio_"
   ]
  },
  {
   "cell_type": "code",
   "execution_count": null,
   "metadata": {},
   "outputs": [],
   "source": [
    "plt.figure(figsize = (10, 8))\n",
    "plt.plot(range(0,10), pca.explained_variance_ratio_.cumsum(), marker = 'o', linestyle = '--')\n",
    "plt.title('Explained Variance by Components')\n",
    "plt.xlabel('number of Components')\n",
    "plt.ylabel('Cumulative Explained Variance')"
   ]
  },
  {
   "cell_type": "code",
   "execution_count": null,
   "metadata": {},
   "outputs": [],
   "source": [
    "pca = PCA(n_components = 3)"
   ]
  },
  {
   "cell_type": "code",
   "execution_count": null,
   "metadata": {},
   "outputs": [],
   "source": [
    "pca.fit(segmentation_std)"
   ]
  },
  {
   "cell_type": "code",
   "execution_count": null,
   "metadata": {},
   "outputs": [],
   "source": [
    "pca.transform(segmentation_std)"
   ]
  },
  {
   "cell_type": "markdown",
   "metadata": {},
   "source": [
    "help(PCA)"
   ]
  },
  {
   "cell_type": "code",
   "execution_count": null,
   "metadata": {},
   "outputs": [],
   "source": [
    "pca.components_"
   ]
  },
  {
   "cell_type": "markdown",
   "metadata": {},
   "source": [
    "### Hier ist die Component 1 (erste Array) wichtig zum Entscheiden"
   ]
  },
  {
   "cell_type": "raw",
   "metadata": {},
   "source": [
    "Qualifikation = 0.37  :  13\n",
    "Deutsch =       0.37  :  13\n",
    "Mathe =         0.36  :  12\n",
    "St_f_t =        0.35  :  11\n",
    "Physik =        0.34  :  11\n",
    "Schultyp =      0.33  :  10\n",
    "Alter =         0.31  :  10\n",
    "OLT_M =         0.29  :  9\n",
    "OLT_D =         0.25  :  8\n",
    "Studiengang =   0.03  :  3"
   ]
  },
  {
   "cell_type": "code",
   "execution_count": null,
   "metadata": {},
   "outputs": [],
   "source": [
    "head = df_segmentation.columns.values"
   ]
  },
  {
   "cell_type": "code",
   "execution_count": null,
   "metadata": {},
   "outputs": [],
   "source": [
    "summe = sum(abs(pca.components_[0]))\n",
    "z = 0\n",
    "for i in pca.components_[0]:\n",
    "    a = round(abs(i)/summe, 3)\n",
    "    print(head[z] + ': ', a)\n",
    "    z += 1"
   ]
  },
  {
   "cell_type": "code",
   "execution_count": null,
   "metadata": {},
   "outputs": [],
   "source": [
    "scores_pca = pca.transform(segmentation_std)"
   ]
  },
  {
   "cell_type": "code",
   "execution_count": null,
   "metadata": {},
   "outputs": [],
   "source": [
    "(sum(pca.components_[0]))/10"
   ]
  },
  {
   "cell_type": "code",
   "execution_count": null,
   "metadata": {},
   "outputs": [],
   "source": [
    "df_segmentation"
   ]
  },
  {
   "cell_type": "code",
   "execution_count": null,
   "metadata": {},
   "outputs": [],
   "source": [
    "wcss = []\n",
    "for i in range(1, 10):\n",
    "    kmeans_pca = KMeans(n_clusters=i, init='k-means++', random_state=42)\n",
    "    kmeans_pca.fit(scores_pca)\n",
    "    wcss.append(kmeans_pca.inertia_)"
   ]
  },
  {
   "cell_type": "code",
   "execution_count": null,
   "metadata": {},
   "outputs": [],
   "source": [
    "plt.figure(figsize=(10, 8))\n",
    "plt.plot(range(1, 10), wcss, marker='o', linestyle='--')\n",
    "plt.xlabel('Number of Clusters')\n",
    "plt.ylabel('WCSS')\n",
    "plt.title('K-means with PCA Clustering')\n",
    "plt.show()"
   ]
  },
  {
   "cell_type": "code",
   "execution_count": null,
   "metadata": {},
   "outputs": [],
   "source": [
    "kmeans_pca = KMeans(n_clusters=4, init='k-means++', random_state=42)"
   ]
  },
  {
   "cell_type": "code",
   "execution_count": null,
   "metadata": {},
   "outputs": [],
   "source": [
    "kmeans_pca.fit(scores_pca)"
   ]
  },
  {
   "cell_type": "code",
   "execution_count": null,
   "metadata": {},
   "outputs": [],
   "source": [
    "df_segm_pca_kmeans = pd.concat([df_segmentation.reset_index(drop = True), pd.DataFrame(scores_pca)], axis = 1)\n",
    "df_segm_pca_kmeans.columns.values[-3:] = ['Component 1', 'Component 2', 'Component 3']\n",
    "len(kmeans_pca.labels_)\n",
    "df_segm_pca_kmeans['Segment K-means PCA'] = kmeans_pca.labels_"
   ]
  },
  {
   "cell_type": "code",
   "execution_count": null,
   "metadata": {},
   "outputs": [],
   "source": [
    "df_segm_pca_kmeans"
   ]
  },
  {
   "cell_type": "code",
   "execution_count": null,
   "metadata": {},
   "outputs": [],
   "source": [
    "df_segment_pca_kmeans = pd.concat([df_segm_pca_kmeans, abschluss], axis = 1)"
   ]
  },
  {
   "cell_type": "code",
   "execution_count": null,
   "metadata": {},
   "outputs": [],
   "source": [
    "df_segm_pca_kmeans['Segment'] = df_segm_pca_kmeans['Segment K-means PCA'].map({0:'first',\n",
    "                                                                               1:'second',\n",
    "                                                                               2:'third',\n",
    "                                                                               3:'fourth'})"
   ]
  },
  {
   "cell_type": "code",
   "execution_count": null,
   "metadata": {},
   "outputs": [],
   "source": [
    "df_segmentation"
   ]
  },
  {
   "cell_type": "code",
   "execution_count": null,
   "metadata": {},
   "outputs": [],
   "source": [
    "from mpl_toolkits.mplot3d import Axes3D\n",
    "from matplotlib.colors import ListedColormap\n",
    "x_axis = df_segm_pca_kmeans['Component 2']\n",
    "y_axis = df_segm_pca_kmeans['Component 3']\n",
    "z_axis = df_segm_pca_kmeans['Component 1']\n",
    "fig = plt.figure()\n",
    "ax = fig.add_subplot(111, projection = '3d')\n",
    "cmap = ListedColormap(sns.color_palette(\"husl\", 256).as_hex())\n",
    "ax.scatter(x_axis, y_axis, z_axis, cmap=['r', 'g','b'])\n",
    "plt.title('Cluster by PCA Components')\n",
    "plt.show()"
   ]
  },
  {
   "cell_type": "code",
   "execution_count": null,
   "metadata": {},
   "outputs": [],
   "source": [
    "from matplotlib.colors import ListedColormap\n",
    "x_axis = df_segm_pca_kmeans['Component 2']\n",
    "y_axis = df_segm_pca_kmeans['Component 1']\n",
    "plt.figure(figsize = (11, 8))\n",
    "cmap = ListedColormap(sns.color_palette(\"husl\", 256).as_hex())\n",
    "sns.scatterplot(x_axis, y_axis, hue = df_segm_pca_kmeans['Segment'], cmap=\"brg\")\n",
    "plt.title('Cluster by PCA Components')\n",
    "plt.show()"
   ]
  },
  {
   "cell_type": "markdown",
   "metadata": {},
   "source": [
    "### Hier sieht man dass, die Component 1 am meisten Aussage hat. D.h. wenn man Component 1 weg lässt, dann kann man keine Kategorie erzeugen."
   ]
  }
 ],
 "metadata": {
  "kernelspec": {
   "display_name": "Python 3",
   "language": "python",
   "name": "python3"
  },
  "language_info": {
   "codemirror_mode": {
    "name": "ipython",
    "version": 3
   },
   "file_extension": ".py",
   "mimetype": "text/x-python",
   "name": "python",
   "nbconvert_exporter": "python",
   "pygments_lexer": "ipython3",
   "version": "3.8.3"
  }
 },
 "nbformat": 4,
 "nbformat_minor": 4
}
